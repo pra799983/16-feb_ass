{
 "cells": [
  {
   "cell_type": "code",
   "execution_count": null,
   "id": "a74da5bc-c44e-461a-8eca-95f0285205ed",
   "metadata": {},
   "outputs": [],
   "source": [
    "Q1. What is a database? Differentiate between SQL and NoSQL databases."
   ]
  },
  {
   "cell_type": "code",
   "execution_count": null,
   "id": "c9d4e436-5ea0-4501-b3cb-df46bf8f3316",
   "metadata": {},
   "outputs": [],
   "source": [
    "SQL and NoSQL are two different types of database management systems (DBMS) that handle data in distinct ways:\n",
    "\n",
    "SQL Databases:\n",
    "SQL (Structured Query Language) databases are based on a relational model and use SQL as the standard language for managing the data.\n",
    "These databases are characterized by their predefined schemas, which define the structure of the data, such as tables, columns, and relationships.\n",
    "SQL databases are known for their ACID (Atomicity, Consistency, Isolation, Durability) properties, which ensure data integrity and reliability.\n",
    "\n",
    "Advantages of SQL databases:\n",
    "Strong data consistency and integrity due to strict schemas.\n",
    "Support for complex queries using SQL.\n",
    "Well-suited for applications that require structured data and complex relationships.\n",
    "Mature and widely adopted, with a large ecosystem of tools and support.\n",
    "Examples of SQL databases include MySQL, PostgreSQL, Oracle Database, and Microsoft SQL Server.\n",
    "\n",
    "NoSQL Databases:\n",
    "NoSQL (Not Only SQL) databases are designed to handle large volumes of unstructured, semi-structured, or structured data. \n",
    "They provide a flexible schema design, allowing for dynamic changes in the data structure without requiring a predefined schema. \n",
    "NoSQL databases are often used in scenarios where data needs to be distributed across multiple servers, as they offer scalability and\n",
    "high-performance capabilities.\n",
    "\n",
    "Advantages of NoSQL databases:\n",
    "Flexible schema design allows for agile development and easy handling of evolving data structures.\n",
    "Horizontal scalability and high-performance capabilities.\n",
    "Ability to handle large amounts of unstructured data, such as documents, graphs, key-value pairs, or time-series data.\n",
    "Well-suited for applications that require high availability and scalability, such as web applications and big data processing.\n",
    "Examples of NoSQL databases include MongoDB, Cassandra, Redis, CouchDB, and Amazon DynamoDB."
   ]
  },
  {
   "cell_type": "code",
   "execution_count": null,
   "id": "22ab2888-4ac6-4b4a-8751-e374ab5c605c",
   "metadata": {},
   "outputs": [],
   "source": [
    "Q2. What is DDL? Explain why CREATE, DROP, ALTER, and TRUNCATE are used with an example."
   ]
  },
  {
   "cell_type": "code",
   "execution_count": null,
   "id": "3cc0d7af-0bdd-4e43-99f1-806e0c33eb2a",
   "metadata": {},
   "outputs": [],
   "source": [
    "DDL stands for Data Definition Language. It is a subset of SQL (Structured Query Language) that is used to define and \n",
    "manage the structure of a database. DDL statements are responsible for creating, modifying, and deleting database objects such as tables, views,\n",
    "indexes, and constraints. DDL statements do not manipulate or retrieve data; instead, they focus on defining the database schema.\n",
    "\n",
    "\n",
    "CREATE:\n",
    "The CREATE statement is used to create new database objects, such as tables, views, indexes, or constraints. \n",
    "It specifies the name of the object, its structure, and any associated properties. \n",
    "\n",
    "CREATE TABLE Customers (\n",
    "    id INT PRIMARY KEY,\n",
    "    name VARCHAR(50),\n",
    "    email VARCHAR(100),\n",
    "    age INT\n",
    ");\n",
    "\n",
    "DROP:\n",
    "The DROP statement is used to remove database objects, such as tables or views, from the database. It permanently deletes the object and all\n",
    "its associated data.\n",
    "DROP TABLE Customers;\n",
    "\n",
    "ALTER:\n",
    "The ALTER statement is used to modify the structure of an existing database object, such as adding or dropping columns, changing data types,\n",
    "or modifying constraints. \n",
    "\n",
    "ALTER TABLE Customers\n",
    "ADD COLUMN phone VARCHAR(15);\n",
    "\n",
    "TRUNCATE:\n",
    "The TRUNCATE statement is used to remove all rows from a table, effectively resetting it to an empty state.\n",
    "Unlike the DROP statement, which deletes the entire table structure, TRUNCATE preserves the table structure and only removes the data.\n",
    "\n",
    "TRUNCATE TABLE Customers;"
   ]
  },
  {
   "cell_type": "code",
   "execution_count": null,
   "id": "00138759-bbc2-476a-a56f-a86c69065b57",
   "metadata": {},
   "outputs": [],
   "source": [
    "Q3. What is DML? Explain INSERT, UPDATE, and DELETE with an example."
   ]
  },
  {
   "cell_type": "code",
   "execution_count": null,
   "id": "eeb3ff3c-9b77-451c-ad8d-949a4daab6c7",
   "metadata": {},
   "outputs": [],
   "source": [
    "DML stands for Data Manipulation Language. It is a subset of SQL (Structured Query Language) that deals with the manipulation of data within a\n",
    "database. DML statements are used to insert, update, and delete data stored in database tables.\n",
    "INSERT:\n",
    "The INSERT statement is used to insert new rows of data into a table. It allows you to specify the values to be inserted for each column or\n",
    "select the values from another table. \n",
    "\n",
    "NSERT INTO Customers (id, name, email, age)\n",
    "VALUES (1, 'John Doe', 'john@example.com', 30);\n",
    "\n",
    "UPDATE:\n",
    "The UPDATE statement is used to modify existing data in a table. It allows you to change the values of one or more columns based on specified\n",
    "conditions\n",
    "\n",
    "UPDATE Customers\n",
    "SET age = 31\n",
    "WHERE id = 1;\n",
    "DELETE:\n",
    "The DELETE statement is used to remove one or more rows from a table based on specified conditions. It permanently deletes the selected rows\n",
    "from the table.\n",
    "\n",
    "DELETE FROM Customers\n",
    "WHERE id = 1;"
   ]
  },
  {
   "cell_type": "code",
   "execution_count": null,
   "id": "a38451e9-a842-4695-9a9b-1224df81218c",
   "metadata": {},
   "outputs": [],
   "source": [
    "Q4. What is DQL? Explain SELECT with an example."
   ]
  },
  {
   "cell_type": "code",
   "execution_count": null,
   "id": "60af2e2c-15c1-4a03-ae7d-f9bca3958f7d",
   "metadata": {},
   "outputs": [],
   "source": [
    "DQL stands for Data Query Language. It is a subset of SQL (Structured Query Language) that is used to retrieve and query data from a database.\n",
    "DQL statements, primarily the SELECT statement, are used to specify the data to be retrieved, filter the data based on specific conditions, and \n",
    "control the result set's presentation.\n",
    "\n",
    "The most commonly used DQL statement is SELECT, which allows you to query the database and retrieve specific data based on specified criteria. \n",
    "Here's an example of using SELECT to retrieve data from a table named \"Customers\":\n",
    "\n",
    "SELECT id, name, email\n",
    "FROM Customers\n",
    "WHERE age > 30;"
   ]
  },
  {
   "cell_type": "code",
   "execution_count": null,
   "id": "b7dac518-6703-4eac-a038-e418e74f0cb2",
   "metadata": {},
   "outputs": [],
   "source": [
    "Q5. Explain Primary Key and Foreign Key."
   ]
  },
  {
   "cell_type": "code",
   "execution_count": null,
   "id": "ff17f750-731e-4632-b3ac-0c4937a9adea",
   "metadata": {},
   "outputs": [],
   "source": [
    "Primary Key:\n",
    "A primary key is a column or a set of columns in a database table that uniquely identifies each row or record in that table. \n",
    "It ensures the uniqueness and integrity of the data within the table. A primary key constraint is used to define a primary key for a table, \n",
    "and it enforces the uniqueness and non-nullability of the key.\n",
    "\n",
    "Key characteristics of a primary key:\n",
    "\n",
    "Uniqueness: Each value in the primary key column(s) must be unique, ensuring that no two rows in the table have the same primary key value.\n",
    "\n",
    "Non-nullability: The primary key column(s) cannot contain null values, ensuring that every row in the table has a valid primary key.\n",
    "\n",
    "Single-value: A primary key can consist of a single column or a combination of multiple columns (composite key).\n",
    "\n",
    "Primary keys are crucial for maintaining data integrity, facilitating efficient data retrieval, and establishing relationships between tables.\n",
    "\n",
    "Foreign Key:\n",
    "A foreign key is a column or a set of columns in a database table that refers to the primary key of another table. \n",
    "It establishes a relationship between two tables by enforcing referential integrity, ensuring that the values in the foreign key column(s) correspond \n",
    "to the values in the primary key column(s) of the referenced table.\n",
    "\n",
    "Key characteristics of a foreign key:\n",
    "\n",
    "Referential Integrity: The values in the foreign key column(s) must exist in the primary key column(s) of the referenced table or be null (if allowed).\n",
    "\n",
    "Relationship: The foreign key represents a relationship between the table containing the foreign key and the referenced table, typically\n",
    "representing a one-to-many or many-to-one relationship.\n",
    "\n",
    "Cascading Actions: Foreign keys can have cascading actions defined, such as ON DELETE and ON UPDATE, to specify the behavior when the referenced\n",
    "primary key values change or are deleted.\n"
   ]
  },
  {
   "cell_type": "code",
   "execution_count": null,
   "id": "667312a1-b084-4e2a-a5e3-c07fe8a2dc62",
   "metadata": {},
   "outputs": [],
   "source": [
    "Q6. Write a python code to connect MySQL to python. Explain the cursor() and execute() method."
   ]
  },
  {
   "cell_type": "code",
   "execution_count": null,
   "id": "66f80dda-8cea-400d-8647-cea121da2b9a",
   "metadata": {},
   "outputs": [],
   "source": [
    "import mysql.connector\n",
    "connection = mysql.connector.connect(\n",
    "    host=\"localhost\",\n",
    "    user=\"your_username\",\n",
    "    password=\"your_password\",\n",
    "    database=\"your_database\"\n",
    ")\n",
    "cursor = connection.cursor()\n",
    "query = \"SELECT * FROM customers\"\n",
    "cursor.execute(query)\n",
    "results = cursor.fetchall()\n",
    "for row in results:\n",
    "    print(row)\n",
    "cursor.close()\n",
    "connection.close()\n",
    "\n",
    "cursor():\n",
    "The cursor() method creates a cursor object, which allows you to execute SQL statements and fetch results from the database. \n",
    "It is invoked on the connection object and returns a cursor instance associated with that connection.\n",
    "\n",
    "execute():\n",
    "The execute() method is used to execute SQL statements or queries through the cursor object. It takes the SQL statement as\n",
    "a parameter and executes it on the connected MySQL database.\n",
    "\n"
   ]
  },
  {
   "cell_type": "code",
   "execution_count": null,
   "id": "a4a1538e-897f-44d7-82db-8aeb3f4f2ed9",
   "metadata": {},
   "outputs": [],
   "source": [
    "Q7. Give the order of execution of SQL clauses in an SQL query."
   ]
  },
  {
   "cell_type": "code",
   "execution_count": null,
   "id": "5ac51bb2-12bc-418d-96fb-8f7d53454ece",
   "metadata": {},
   "outputs": [],
   "source": [
    "The order of execution of SQL clauses in an SQL query is as follows:\n",
    "\n",
    "FROM: The FROM clause specifies the table(s) from which the data will be retrieved. It identifies the source table(s) or view(s) involved in the query.\n",
    "\n",
    "\n",
    "WHERE: The WHERE clause filters the rows based on specified conditions. It is used to apply logical conditions to select the rows that meet the\n",
    "specified criteria.\n",
    "\n",
    "GROUP BY: The GROUP BY clause is used to group rows based on one or more columns. It is typically followed by aggregate functions like COUNT, SUM,\n",
    "AVG, etc., to perform calculations on groups of rows.\n",
    "\n",
    "HAVING: The HAVING clause is used to filter the grouped rows based on conditions. It is similar to the WHERE clause but operates on the grouped\n",
    "data instead of individual rows.\n",
    "\n",
    "SELECT: The SELECT clause specifies the columns to be retrieved from the table(s) or view(s). It defines the result set's structure and can include\n",
    "expressions, calculations, and aliases for column names.\n",
    "\n",
    "DISTINCT: The DISTINCT keyword eliminates duplicate rows from the result set, ensuring that only unique rows are returned.\n",
    "\n",
    "ORDER BY: The ORDER BY clause sorts the result set based on specified columns. It arranges the rows in ascending or descending order based on the \n",
    "column values.\n",
    "\n",
    "LIMIT/OFFSET: The LIMIT and OFFSET clauses are used to limit the number of rows returned and specify the starting point of the result set,\n",
    "respectively. They are commonly used for pagination or retrieving a subset of rows from the result."
   ]
  }
 ],
 "metadata": {
  "kernelspec": {
   "display_name": "Python 3 (ipykernel)",
   "language": "python",
   "name": "python3"
  },
  "language_info": {
   "codemirror_mode": {
    "name": "ipython",
    "version": 3
   },
   "file_extension": ".py",
   "mimetype": "text/x-python",
   "name": "python",
   "nbconvert_exporter": "python",
   "pygments_lexer": "ipython3",
   "version": "3.10.8"
  }
 },
 "nbformat": 4,
 "nbformat_minor": 5
}
